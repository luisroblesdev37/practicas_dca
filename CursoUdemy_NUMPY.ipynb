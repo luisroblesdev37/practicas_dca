{
 "cells": [
  {
   "cell_type": "code",
   "execution_count": 3,
   "id": "9f7234d9-8afe-4de0-859d-27e7a5061495",
   "metadata": {},
   "outputs": [],
   "source": [
    "import numpy as np"
   ]
  },
  {
   "cell_type": "code",
   "execution_count": 210,
   "id": "a931b633-92aa-4fd8-b3ad-73b21b7cff93",
   "metadata": {},
   "outputs": [
    {
     "data": {
      "text/plain": [
       "'1.21.1'"
      ]
     },
     "execution_count": 210,
     "metadata": {},
     "output_type": "execute_result"
    }
   ],
   "source": [
    "np.__version__ ## np = package, np.__version__ variable  del paquete"
   ]
  },
  {
   "cell_type": "code",
   "execution_count": 211,
   "id": "fecfba12-262d-4e79-87f8-0aa2c74cdac9",
   "metadata": {},
   "outputs": [],
   "source": [
    "arr = np.array([1,2,3,4,5] ) # np.array es una funcion del paquete np"
   ]
  },
  {
   "cell_type": "markdown",
   "id": "71ed6592-03a6-4440-8a96-c09a46dc9ae0",
   "metadata": {
    "tags": []
   },
   "source": [
    "help(np.array)"
   ]
  },
  {
   "cell_type": "code",
   "execution_count": 8,
   "id": "011f8579-ee65-4962-ac9f-f47b715710d6",
   "metadata": {},
   "outputs": [
    {
     "data": {
      "text/plain": [
       "array([1, 2, 3, 4, 5])"
      ]
     },
     "execution_count": 8,
     "metadata": {},
     "output_type": "execute_result"
    }
   ],
   "source": [
    "arr"
   ]
  },
  {
   "cell_type": "code",
   "execution_count": 9,
   "id": "141b9871-abaf-4c18-b28c-1959d7f18052",
   "metadata": {},
   "outputs": [
    {
     "name": "stdout",
     "output_type": "stream",
     "text": [
      "[1 2 3 4 5]\n"
     ]
    }
   ],
   "source": [
    "print(arr)"
   ]
  },
  {
   "cell_type": "code",
   "execution_count": 10,
   "id": "e9a23b98-4f36-40a6-adae-79cf513fe4d7",
   "metadata": {},
   "outputs": [
    {
     "name": "stdout",
     "output_type": "stream",
     "text": [
      "<class 'numpy.ndarray'>\n"
     ]
    }
   ],
   "source": [
    "print(type(arr))"
   ]
  },
  {
   "cell_type": "code",
   "execution_count": 11,
   "id": "d4b7e316-0b21-4907-aa14-38de93655294",
   "metadata": {},
   "outputs": [
    {
     "data": {
      "text/plain": [
       "array([10, 20, 30, 40, 50])"
      ]
     },
     "execution_count": 11,
     "metadata": {},
     "output_type": "execute_result"
    }
   ],
   "source": [
    "arr*10"
   ]
  },
  {
   "cell_type": "code",
   "execution_count": 13,
   "id": "d1a51228-1d6a-40f6-bb44-87805e10a298",
   "metadata": {},
   "outputs": [],
   "source": [
    "arr *=10"
   ]
  },
  {
   "cell_type": "code",
   "execution_count": 14,
   "id": "3a6ff469-8906-472f-98ce-dc6e97bd7564",
   "metadata": {},
   "outputs": [
    {
     "data": {
      "text/plain": [
       "array([10, 20, 30, 40, 50])"
      ]
     },
     "execution_count": 14,
     "metadata": {},
     "output_type": "execute_result"
    }
   ],
   "source": [
    "arr"
   ]
  },
  {
   "cell_type": "code",
   "execution_count": 15,
   "id": "7dc97f58-5424-45a8-a38d-626009267fef",
   "metadata": {},
   "outputs": [
    {
     "name": "stdout",
     "output_type": "stream",
     "text": [
      "Help on built-in function array in module numpy:\n",
      "\n",
      "array(...)\n",
      "    array(object, dtype=None, *, copy=True, order='K', subok=False, ndmin=0,\n",
      "          like=None)\n",
      "    \n",
      "    Create an array.\n",
      "    \n",
      "    Parameters\n",
      "    ----------\n",
      "    object : array_like\n",
      "        An array, any object exposing the array interface, an object whose\n",
      "        __array__ method returns an array, or any (nested) sequence.\n",
      "    dtype : data-type, optional\n",
      "        The desired data-type for the array.  If not given, then the type will\n",
      "        be determined as the minimum type required to hold the objects in the\n",
      "        sequence.\n",
      "    copy : bool, optional\n",
      "        If true (default), then the object is copied.  Otherwise, a copy will\n",
      "        only be made if __array__ returns a copy, if obj is a nested sequence,\n",
      "        or if a copy is needed to satisfy any of the other requirements\n",
      "        (`dtype`, `order`, etc.).\n",
      "    order : {'K', 'A', 'C', 'F'}, optional\n",
      "        Specify the memory layout of the array. If object is not an array, the\n",
      "        newly created array will be in C order (row major) unless 'F' is\n",
      "        specified, in which case it will be in Fortran order (column major).\n",
      "        If object is an array the following holds.\n",
      "    \n",
      "        ===== ========= ===================================================\n",
      "        order  no copy                     copy=True\n",
      "        ===== ========= ===================================================\n",
      "        'K'   unchanged F & C order preserved, otherwise most similar order\n",
      "        'A'   unchanged F order if input is F and not C, otherwise C order\n",
      "        'C'   C order   C order\n",
      "        'F'   F order   F order\n",
      "        ===== ========= ===================================================\n",
      "    \n",
      "        When ``copy=False`` and a copy is made for other reasons, the result is\n",
      "        the same as if ``copy=True``, with some exceptions for 'A', see the\n",
      "        Notes section. The default order is 'K'.\n",
      "    subok : bool, optional\n",
      "        If True, then sub-classes will be passed-through, otherwise\n",
      "        the returned array will be forced to be a base-class array (default).\n",
      "    ndmin : int, optional\n",
      "        Specifies the minimum number of dimensions that the resulting\n",
      "        array should have.  Ones will be pre-pended to the shape as\n",
      "        needed to meet this requirement.\n",
      "    like : array_like\n",
      "        Reference object to allow the creation of arrays which are not\n",
      "        NumPy arrays. If an array-like passed in as ``like`` supports\n",
      "        the ``__array_function__`` protocol, the result will be defined\n",
      "        by it. In this case, it ensures the creation of an array object\n",
      "        compatible with that passed in via this argument.\n",
      "    \n",
      "        .. versionadded:: 1.20.0\n",
      "    \n",
      "    Returns\n",
      "    -------\n",
      "    out : ndarray\n",
      "        An array object satisfying the specified requirements.\n",
      "    \n",
      "    See Also\n",
      "    --------\n",
      "    empty_like : Return an empty array with shape and type of input.\n",
      "    ones_like : Return an array of ones with shape and type of input.\n",
      "    zeros_like : Return an array of zeros with shape and type of input.\n",
      "    full_like : Return a new array with shape of input filled with value.\n",
      "    empty : Return a new uninitialized array.\n",
      "    ones : Return a new array setting values to one.\n",
      "    zeros : Return a new array setting values to zero.\n",
      "    full : Return a new array of given shape filled with value.\n",
      "    \n",
      "    \n",
      "    Notes\n",
      "    -----\n",
      "    When order is 'A' and `object` is an array in neither 'C' nor 'F' order,\n",
      "    and a copy is forced by a change in dtype, then the order of the result is\n",
      "    not necessarily 'C' as expected. This is likely a bug.\n",
      "    \n",
      "    Examples\n",
      "    --------\n",
      "    >>> np.array([1, 2, 3])\n",
      "    array([1, 2, 3])\n",
      "    \n",
      "    Upcasting:\n",
      "    \n",
      "    >>> np.array([1, 2, 3.0])\n",
      "    array([ 1.,  2.,  3.])\n",
      "    \n",
      "    More than one dimension:\n",
      "    \n",
      "    >>> np.array([[1, 2], [3, 4]])\n",
      "    array([[1, 2],\n",
      "           [3, 4]])\n",
      "    \n",
      "    Minimum dimensions 2:\n",
      "    \n",
      "    >>> np.array([1, 2, 3], ndmin=2)\n",
      "    array([[1, 2, 3]])\n",
      "    \n",
      "    Type provided:\n",
      "    \n",
      "    >>> np.array([1, 2, 3], dtype=complex)\n",
      "    array([ 1.+0.j,  2.+0.j,  3.+0.j])\n",
      "    \n",
      "    Data-type consisting of more than one element:\n",
      "    \n",
      "    >>> x = np.array([(1,2),(3,4)],dtype=[('a','<i4'),('b','<i4')])\n",
      "    >>> x['a']\n",
      "    array([1, 3])\n",
      "    \n",
      "    Creating an array from sub-classes:\n",
      "    \n",
      "    >>> np.array(np.mat('1 2; 3 4'))\n",
      "    array([[1, 2],\n",
      "           [3, 4]])\n",
      "    \n",
      "    >>> np.array(np.mat('1 2; 3 4'), subok=True)\n",
      "    matrix([[1, 2],\n",
      "            [3, 4]])\n",
      "\n"
     ]
    }
   ],
   "source": [
    "help(np.array)"
   ]
  },
  {
   "cell_type": "markdown",
   "id": "6e15c804-a871-4823-8802-05e44d73fe76",
   "metadata": {},
   "source": [
    "## Clase 8 - Dimensiones de un Array"
   ]
  },
  {
   "cell_type": "code",
   "execution_count": 16,
   "id": "d185e8af-2a5c-4ea0-881a-ca82165cf474",
   "metadata": {},
   "outputs": [],
   "source": [
    "arr2d = np.array( [[1,2,3],[4,5,6]] )"
   ]
  },
  {
   "cell_type": "code",
   "execution_count": 17,
   "id": "7ea976b7-d45f-4bbf-977f-0a87fe4610b6",
   "metadata": {},
   "outputs": [
    {
     "name": "stdout",
     "output_type": "stream",
     "text": [
      "[[1 2 3]\n",
      " [4 5 6]]\n"
     ]
    }
   ],
   "source": [
    "print(arr2d)"
   ]
  },
  {
   "cell_type": "code",
   "execution_count": 19,
   "id": "c86b1be4-633b-402e-9f96-82c9951439d2",
   "metadata": {},
   "outputs": [],
   "source": [
    "arr3d = np.array( [ [ [1,2,3], [4,5,6] ],  [ [7,8,9],[10,11,12] ] ]  )"
   ]
  },
  {
   "cell_type": "code",
   "execution_count": 20,
   "id": "271ea5fc-2f79-47b2-b6c8-dc78fd611e7b",
   "metadata": {},
   "outputs": [
    {
     "name": "stdout",
     "output_type": "stream",
     "text": [
      "[[[ 1  2  3]\n",
      "  [ 4  5  6]]\n",
      "\n",
      " [[ 7  8  9]\n",
      "  [10 11 12]]]\n"
     ]
    }
   ],
   "source": [
    "print(arr3d)"
   ]
  },
  {
   "cell_type": "code",
   "execution_count": 21,
   "id": "6e06651e-000e-4138-b936-85afe51e4310",
   "metadata": {},
   "outputs": [
    {
     "name": "stdout",
     "output_type": "stream",
     "text": [
      "3\n"
     ]
    }
   ],
   "source": [
    "print(arr3d.ndim)"
   ]
  },
  {
   "cell_type": "code",
   "execution_count": 218,
   "id": "6ab5afaa-376f-49ef-a233-2d037580089b",
   "metadata": {},
   "outputs": [
    {
     "name": "stdout",
     "output_type": "stream",
     "text": [
      "Help on int object:\n",
      "\n",
      "class int(object)\n",
      " |  int([x]) -> integer\n",
      " |  int(x, base=10) -> integer\n",
      " |  \n",
      " |  Convert a number or string to an integer, or return 0 if no arguments\n",
      " |  are given.  If x is a number, return x.__int__().  For floating point\n",
      " |  numbers, this truncates towards zero.\n",
      " |  \n",
      " |  If x is not a number or if base is given, then x must be a string,\n",
      " |  bytes, or bytearray instance representing an integer literal in the\n",
      " |  given base.  The literal can be preceded by '+' or '-' and be surrounded\n",
      " |  by whitespace.  The base defaults to 10.  Valid bases are 0 and 2-36.\n",
      " |  Base 0 means to interpret the base from the string as an integer literal.\n",
      " |  >>> int('0b100', base=0)\n",
      " |  4\n",
      " |  \n",
      " |  Built-in subclasses:\n",
      " |      bool\n",
      " |  \n",
      " |  Methods defined here:\n",
      " |  \n",
      " |  __abs__(self, /)\n",
      " |      abs(self)\n",
      " |  \n",
      " |  __add__(self, value, /)\n",
      " |      Return self+value.\n",
      " |  \n",
      " |  __and__(self, value, /)\n",
      " |      Return self&value.\n",
      " |  \n",
      " |  __bool__(self, /)\n",
      " |      self != 0\n",
      " |  \n",
      " |  __ceil__(...)\n",
      " |      Ceiling of an Integral returns itself.\n",
      " |  \n",
      " |  __divmod__(self, value, /)\n",
      " |      Return divmod(self, value).\n",
      " |  \n",
      " |  __eq__(self, value, /)\n",
      " |      Return self==value.\n",
      " |  \n",
      " |  __float__(self, /)\n",
      " |      float(self)\n",
      " |  \n",
      " |  __floor__(...)\n",
      " |      Flooring an Integral returns itself.\n",
      " |  \n",
      " |  __floordiv__(self, value, /)\n",
      " |      Return self//value.\n",
      " |  \n",
      " |  __format__(self, format_spec, /)\n",
      " |      Default object formatter.\n",
      " |  \n",
      " |  __ge__(self, value, /)\n",
      " |      Return self>=value.\n",
      " |  \n",
      " |  __getattribute__(self, name, /)\n",
      " |      Return getattr(self, name).\n",
      " |  \n",
      " |  __getnewargs__(self, /)\n",
      " |  \n",
      " |  __gt__(self, value, /)\n",
      " |      Return self>value.\n",
      " |  \n",
      " |  __hash__(self, /)\n",
      " |      Return hash(self).\n",
      " |  \n",
      " |  __index__(self, /)\n",
      " |      Return self converted to an integer, if self is suitable for use as an index into a list.\n",
      " |  \n",
      " |  __int__(self, /)\n",
      " |      int(self)\n",
      " |  \n",
      " |  __invert__(self, /)\n",
      " |      ~self\n",
      " |  \n",
      " |  __le__(self, value, /)\n",
      " |      Return self<=value.\n",
      " |  \n",
      " |  __lshift__(self, value, /)\n",
      " |      Return self<<value.\n",
      " |  \n",
      " |  __lt__(self, value, /)\n",
      " |      Return self<value.\n",
      " |  \n",
      " |  __mod__(self, value, /)\n",
      " |      Return self%value.\n",
      " |  \n",
      " |  __mul__(self, value, /)\n",
      " |      Return self*value.\n",
      " |  \n",
      " |  __ne__(self, value, /)\n",
      " |      Return self!=value.\n",
      " |  \n",
      " |  __neg__(self, /)\n",
      " |      -self\n",
      " |  \n",
      " |  __or__(self, value, /)\n",
      " |      Return self|value.\n",
      " |  \n",
      " |  __pos__(self, /)\n",
      " |      +self\n",
      " |  \n",
      " |  __pow__(self, value, mod=None, /)\n",
      " |      Return pow(self, value, mod).\n",
      " |  \n",
      " |  __radd__(self, value, /)\n",
      " |      Return value+self.\n",
      " |  \n",
      " |  __rand__(self, value, /)\n",
      " |      Return value&self.\n",
      " |  \n",
      " |  __rdivmod__(self, value, /)\n",
      " |      Return divmod(value, self).\n",
      " |  \n",
      " |  __repr__(self, /)\n",
      " |      Return repr(self).\n",
      " |  \n",
      " |  __rfloordiv__(self, value, /)\n",
      " |      Return value//self.\n",
      " |  \n",
      " |  __rlshift__(self, value, /)\n",
      " |      Return value<<self.\n",
      " |  \n",
      " |  __rmod__(self, value, /)\n",
      " |      Return value%self.\n",
      " |  \n",
      " |  __rmul__(self, value, /)\n",
      " |      Return value*self.\n",
      " |  \n",
      " |  __ror__(self, value, /)\n",
      " |      Return value|self.\n",
      " |  \n",
      " |  __round__(...)\n",
      " |      Rounding an Integral returns itself.\n",
      " |      Rounding with an ndigits argument also returns an integer.\n",
      " |  \n",
      " |  __rpow__(self, value, mod=None, /)\n",
      " |      Return pow(value, self, mod).\n",
      " |  \n",
      " |  __rrshift__(self, value, /)\n",
      " |      Return value>>self.\n",
      " |  \n",
      " |  __rshift__(self, value, /)\n",
      " |      Return self>>value.\n",
      " |  \n",
      " |  __rsub__(self, value, /)\n",
      " |      Return value-self.\n",
      " |  \n",
      " |  __rtruediv__(self, value, /)\n",
      " |      Return value/self.\n",
      " |  \n",
      " |  __rxor__(self, value, /)\n",
      " |      Return value^self.\n",
      " |  \n",
      " |  __sizeof__(self, /)\n",
      " |      Returns size in memory, in bytes.\n",
      " |  \n",
      " |  __sub__(self, value, /)\n",
      " |      Return self-value.\n",
      " |  \n",
      " |  __truediv__(self, value, /)\n",
      " |      Return self/value.\n",
      " |  \n",
      " |  __trunc__(...)\n",
      " |      Truncating an Integral returns itself.\n",
      " |  \n",
      " |  __xor__(self, value, /)\n",
      " |      Return self^value.\n",
      " |  \n",
      " |  as_integer_ratio(self, /)\n",
      " |      Return integer ratio.\n",
      " |      \n",
      " |      Return a pair of integers, whose ratio is exactly equal to the original int\n",
      " |      and with a positive denominator.\n",
      " |      \n",
      " |      >>> (10).as_integer_ratio()\n",
      " |      (10, 1)\n",
      " |      >>> (-10).as_integer_ratio()\n",
      " |      (-10, 1)\n",
      " |      >>> (0).as_integer_ratio()\n",
      " |      (0, 1)\n",
      " |  \n",
      " |  bit_length(self, /)\n",
      " |      Number of bits necessary to represent self in binary.\n",
      " |      \n",
      " |      >>> bin(37)\n",
      " |      '0b100101'\n",
      " |      >>> (37).bit_length()\n",
      " |      6\n",
      " |  \n",
      " |  conjugate(...)\n",
      " |      Returns self, the complex conjugate of any int.\n",
      " |  \n",
      " |  to_bytes(self, /, length, byteorder, *, signed=False)\n",
      " |      Return an array of bytes representing an integer.\n",
      " |      \n",
      " |      length\n",
      " |        Length of bytes object to use.  An OverflowError is raised if the\n",
      " |        integer is not representable with the given number of bytes.\n",
      " |      byteorder\n",
      " |        The byte order used to represent the integer.  If byteorder is 'big',\n",
      " |        the most significant byte is at the beginning of the byte array.  If\n",
      " |        byteorder is 'little', the most significant byte is at the end of the\n",
      " |        byte array.  To request the native byte order of the host system, use\n",
      " |        `sys.byteorder' as the byte order value.\n",
      " |      signed\n",
      " |        Determines whether two's complement is used to represent the integer.\n",
      " |        If signed is False and a negative integer is given, an OverflowError\n",
      " |        is raised.\n",
      " |  \n",
      " |  ----------------------------------------------------------------------\n",
      " |  Class methods defined here:\n",
      " |  \n",
      " |  from_bytes(bytes, byteorder, *, signed=False) from builtins.type\n",
      " |      Return the integer represented by the given array of bytes.\n",
      " |      \n",
      " |      bytes\n",
      " |        Holds the array of bytes to convert.  The argument must either\n",
      " |        support the buffer protocol or be an iterable object producing bytes.\n",
      " |        Bytes and bytearray are examples of built-in objects that support the\n",
      " |        buffer protocol.\n",
      " |      byteorder\n",
      " |        The byte order used to represent the integer.  If byteorder is 'big',\n",
      " |        the most significant byte is at the beginning of the byte array.  If\n",
      " |        byteorder is 'little', the most significant byte is at the end of the\n",
      " |        byte array.  To request the native byte order of the host system, use\n",
      " |        `sys.byteorder' as the byte order value.\n",
      " |      signed\n",
      " |        Indicates whether two's complement is used to represent the integer.\n",
      " |  \n",
      " |  ----------------------------------------------------------------------\n",
      " |  Static methods defined here:\n",
      " |  \n",
      " |  __new__(*args, **kwargs) from builtins.type\n",
      " |      Create and return a new object.  See help(type) for accurate signature.\n",
      " |  \n",
      " |  ----------------------------------------------------------------------\n",
      " |  Data descriptors defined here:\n",
      " |  \n",
      " |  denominator\n",
      " |      the denominator of a rational number in lowest terms\n",
      " |  \n",
      " |  imag\n",
      " |      the imaginary part of a complex number\n",
      " |  \n",
      " |  numerator\n",
      " |      the numerator of a rational number in lowest terms\n",
      " |  \n",
      " |  real\n",
      " |      the real part of a complex number\n",
      "\n"
     ]
    }
   ],
   "source": [
    "help(arr.ndim)"
   ]
  },
  {
   "cell_type": "markdown",
   "id": "18740977-8dc9-434a-b680-311c6c1cb411",
   "metadata": {},
   "source": [
    "## Clase 9 - Array de X dimensiones"
   ]
  },
  {
   "cell_type": "code",
   "execution_count": 26,
   "id": "897b4e3a-5ac4-4afb-aafe-13424587682c",
   "metadata": {},
   "outputs": [
    {
     "name": "stdout",
     "output_type": "stream",
     "text": [
      "[[[[[[1 2]]]]]]\n"
     ]
    },
    {
     "data": {
      "text/plain": [
       "6"
      ]
     },
     "execution_count": 26,
     "metadata": {},
     "output_type": "execute_result"
    }
   ],
   "source": [
    "arr6d = np.array( [1,2], ndmin=6)\n",
    "print(arr6d)\n",
    "arr6d.ndim"
   ]
  },
  {
   "cell_type": "markdown",
   "id": "a29ea45a-7a87-4f30-a73b-65f3663240fe",
   "metadata": {},
   "source": [
    "## Clase 10 - Tamaño de un Array"
   ]
  },
  {
   "cell_type": "code",
   "execution_count": 29,
   "id": "552e8be2-f461-4e22-b62c-575960b879f3",
   "metadata": {},
   "outputs": [
    {
     "name": "stdout",
     "output_type": "stream",
     "text": [
      "[10 20 30 40 50]\n"
     ]
    },
    {
     "data": {
      "text/plain": [
       "5"
      ]
     },
     "execution_count": 29,
     "metadata": {},
     "output_type": "execute_result"
    }
   ],
   "source": [
    "print(arr)\n",
    "arr.size"
   ]
  },
  {
   "cell_type": "code",
   "execution_count": 30,
   "id": "c4218414-f0d8-40ee-b0d0-8b201b858c32",
   "metadata": {},
   "outputs": [
    {
     "name": "stdout",
     "output_type": "stream",
     "text": [
      "[[1 2 3]\n",
      " [4 5 6]]\n"
     ]
    },
    {
     "data": {
      "text/plain": [
       "6"
      ]
     },
     "execution_count": 30,
     "metadata": {},
     "output_type": "execute_result"
    }
   ],
   "source": [
    "print(arr2d)\n",
    "arr2d.size"
   ]
  },
  {
   "cell_type": "code",
   "execution_count": 31,
   "id": "934e9b8d-f52f-459d-ac6a-2fa15fcc01b1",
   "metadata": {},
   "outputs": [
    {
     "name": "stdout",
     "output_type": "stream",
     "text": [
      "[[[ 1  2  3]\n",
      "  [ 4  5  6]]\n",
      "\n",
      " [[ 7  8  9]\n",
      "  [10 11 12]]]\n"
     ]
    },
    {
     "data": {
      "text/plain": [
       "12"
      ]
     },
     "execution_count": 31,
     "metadata": {},
     "output_type": "execute_result"
    }
   ],
   "source": [
    "print(arr3d)\n",
    "arr3d.size"
   ]
  },
  {
   "cell_type": "code",
   "execution_count": 32,
   "id": "2b25d0e4-8074-446d-9a09-1392830dec90",
   "metadata": {},
   "outputs": [
    {
     "name": "stdout",
     "output_type": "stream",
     "text": [
      "[[[[[[1 2]]]]]]\n"
     ]
    },
    {
     "data": {
      "text/plain": [
       "2"
      ]
     },
     "execution_count": 32,
     "metadata": {},
     "output_type": "execute_result"
    }
   ],
   "source": [
    "print(arr6d)\n",
    "arr6d.size"
   ]
  },
  {
   "cell_type": "markdown",
   "id": "621f0fff-8e51-4d94-ad93-406fa4d4fa53",
   "metadata": {},
   "source": [
    "## 11. Acceder a los elementos de un Array"
   ]
  },
  {
   "cell_type": "code",
   "execution_count": 33,
   "id": "42aa9ff3-b360-4a23-8ba1-664647a62f92",
   "metadata": {},
   "outputs": [
    {
     "name": "stdout",
     "output_type": "stream",
     "text": [
      "[10 20 30 40 50]\n"
     ]
    }
   ],
   "source": [
    "print (arr)"
   ]
  },
  {
   "cell_type": "code",
   "execution_count": 36,
   "id": "cf5454e3-d518-4848-b36e-e75cf83c627f",
   "metadata": {},
   "outputs": [
    {
     "name": "stdout",
     "output_type": "stream",
     "text": [
      "10\n",
      "50\n",
      "10 20\n",
      "60\n"
     ]
    }
   ],
   "source": [
    "print(arr[0])\n",
    "print(arr[4])\n",
    "print(arr[0],arr[1])\n",
    "print(arr[0]+arr[4])"
   ]
  },
  {
   "cell_type": "markdown",
   "id": "b0be9a36-0eb7-431b-a781-9e022053d521",
   "metadata": {},
   "source": [
    "## 12. Acceder al primer elemento de un Array "
   ]
  },
  {
   "cell_type": "code",
   "execution_count": null,
   "id": "46e87483-f55b-41bf-b0ef-b33ccbf08dfa",
   "metadata": {},
   "outputs": [],
   "source": [
    "print(arr[-1])\n",
    "print(arr[-2])\n",
    "print(arr[-5])"
   ]
  },
  {
   "cell_type": "markdown",
   "id": "9185bf29-5ba2-4149-8e7b-b28447959b21",
   "metadata": {},
   "source": [
    "## 13. Acceder a un array de mas de una dimensión"
   ]
  },
  {
   "cell_type": "code",
   "execution_count": 39,
   "id": "d997b905-bb2d-41f9-9324-3f1746645267",
   "metadata": {},
   "outputs": [
    {
     "name": "stdout",
     "output_type": "stream",
     "text": [
      "[[1 2 3]\n",
      " [4 5 6]]\n"
     ]
    }
   ],
   "source": [
    "print(arr2d)"
   ]
  },
  {
   "cell_type": "code",
   "execution_count": 40,
   "id": "c6bdd976-9909-47ea-9c2c-8cf411853d68",
   "metadata": {},
   "outputs": [
    {
     "name": "stdout",
     "output_type": "stream",
     "text": [
      "6\n"
     ]
    }
   ],
   "source": [
    "print(arr2d[1,2])"
   ]
  },
  {
   "cell_type": "code",
   "execution_count": 41,
   "id": "ad85674e-a5c0-480a-888d-3783bbb031e1",
   "metadata": {},
   "outputs": [
    {
     "name": "stdout",
     "output_type": "stream",
     "text": [
      "1\n"
     ]
    }
   ],
   "source": [
    "print(arr2d[0,0])"
   ]
  },
  {
   "cell_type": "code",
   "execution_count": 42,
   "id": "34f6f5a4-cea3-4df4-b1af-fa2cc9c49824",
   "metadata": {},
   "outputs": [
    {
     "name": "stdout",
     "output_type": "stream",
     "text": [
      "3\n"
     ]
    }
   ],
   "source": [
    "print(arr2d[0,2])"
   ]
  },
  {
   "cell_type": "markdown",
   "id": "c4a58a9a-44d7-4690-a933-a9fa766cae47",
   "metadata": {},
   "source": [
    "## 14. Slicing un array"
   ]
  },
  {
   "cell_type": "code",
   "execution_count": 43,
   "id": "6b3069c7-653e-4633-b703-a9893464bd6e",
   "metadata": {},
   "outputs": [
    {
     "name": "stdout",
     "output_type": "stream",
     "text": [
      "[10 20 30 40 50]\n"
     ]
    }
   ],
   "source": [
    "print(arr)"
   ]
  },
  {
   "cell_type": "code",
   "execution_count": 44,
   "id": "2c9aeeb0-a9e3-4ecb-9688-9958011098cd",
   "metadata": {},
   "outputs": [
    {
     "name": "stdout",
     "output_type": "stream",
     "text": [
      "[20 30]\n"
     ]
    }
   ],
   "source": [
    "print(arr[1:3])"
   ]
  },
  {
   "cell_type": "code",
   "execution_count": 45,
   "id": "f892a634-531d-45d3-b4d8-86a75b7cad3c",
   "metadata": {},
   "outputs": [
    {
     "name": "stdout",
     "output_type": "stream",
     "text": [
      "[30 40 50]\n"
     ]
    }
   ],
   "source": [
    "print(arr[2:])"
   ]
  },
  {
   "cell_type": "code",
   "execution_count": 46,
   "id": "b040d33e-72cd-4807-8ea1-4a25f7c2b79c",
   "metadata": {},
   "outputs": [
    {
     "name": "stdout",
     "output_type": "stream",
     "text": [
      "[10 20]\n"
     ]
    }
   ],
   "source": [
    "print(arr[:2])"
   ]
  },
  {
   "cell_type": "code",
   "execution_count": 48,
   "id": "64f07d62-f81b-47a3-a637-0dd730268887",
   "metadata": {},
   "outputs": [
    {
     "name": "stdout",
     "output_type": "stream",
     "text": [
      "[10 40]\n"
     ]
    }
   ],
   "source": [
    "print(arr[0:5:3])"
   ]
  },
  {
   "cell_type": "code",
   "execution_count": 49,
   "id": "aac309f1-8ac2-4953-852d-14c77980dc02",
   "metadata": {},
   "outputs": [
    {
     "name": "stdout",
     "output_type": "stream",
     "text": [
      "[10 30 50]\n"
     ]
    }
   ],
   "source": [
    "print(arr[::2])"
   ]
  },
  {
   "cell_type": "markdown",
   "id": "09876c2e-d18b-4559-a65e-98a0d0fdb5f2",
   "metadata": {},
   "source": [
    "## 15. Slicing un Array de dos dimensiones"
   ]
  },
  {
   "cell_type": "code",
   "execution_count": 50,
   "id": "857f2a7e-96b9-493e-8466-6c821e73e8e1",
   "metadata": {},
   "outputs": [
    {
     "name": "stdout",
     "output_type": "stream",
     "text": [
      "[[1 2 3]\n",
      " [4 5 6]]\n"
     ]
    }
   ],
   "source": [
    "print(arr2d)"
   ]
  },
  {
   "cell_type": "code",
   "execution_count": 54,
   "id": "e55a9fa6-3467-4179-8550-1a2bdcff3508",
   "metadata": {},
   "outputs": [
    {
     "name": "stdout",
     "output_type": "stream",
     "text": [
      "[[2]\n",
      " [5]]\n"
     ]
    }
   ],
   "source": [
    "print(arr2d[0:2, 1:2])"
   ]
  },
  {
   "cell_type": "markdown",
   "id": "1a3549f3-b485-4e11-ae7d-6081c1c3baa2",
   "metadata": {},
   "source": [
    "## 16. Numpy Vs. Python Lists"
   ]
  },
  {
   "cell_type": "code",
   "execution_count": 55,
   "id": "81bd6524-472c-4f3b-b0b7-3960b094c7ac",
   "metadata": {},
   "outputs": [],
   "source": [
    "from datetime import datetime"
   ]
  },
  {
   "cell_type": "code",
   "execution_count": 56,
   "id": "265cd8fe-a5f5-4170-9de5-3c76f04c4188",
   "metadata": {},
   "outputs": [],
   "source": [
    "py_list = [i for i in range(1000000)]"
   ]
  },
  {
   "cell_type": "code",
   "execution_count": 58,
   "id": "558eeb63-8be2-4391-8153-6a6686e20890",
   "metadata": {},
   "outputs": [
    {
     "name": "stdout",
     "output_type": "stream",
     "text": [
      "Help on class list in module builtins:\n",
      "\n",
      "class list(object)\n",
      " |  list(iterable=(), /)\n",
      " |  \n",
      " |  Built-in mutable sequence.\n",
      " |  \n",
      " |  If no argument is given, the constructor creates a new empty list.\n",
      " |  The argument must be an iterable if specified.\n",
      " |  \n",
      " |  Methods defined here:\n",
      " |  \n",
      " |  __add__(self, value, /)\n",
      " |      Return self+value.\n",
      " |  \n",
      " |  __contains__(self, key, /)\n",
      " |      Return key in self.\n",
      " |  \n",
      " |  __delitem__(self, key, /)\n",
      " |      Delete self[key].\n",
      " |  \n",
      " |  __eq__(self, value, /)\n",
      " |      Return self==value.\n",
      " |  \n",
      " |  __ge__(self, value, /)\n",
      " |      Return self>=value.\n",
      " |  \n",
      " |  __getattribute__(self, name, /)\n",
      " |      Return getattr(self, name).\n",
      " |  \n",
      " |  __getitem__(...)\n",
      " |      x.__getitem__(y) <==> x[y]\n",
      " |  \n",
      " |  __gt__(self, value, /)\n",
      " |      Return self>value.\n",
      " |  \n",
      " |  __iadd__(self, value, /)\n",
      " |      Implement self+=value.\n",
      " |  \n",
      " |  __imul__(self, value, /)\n",
      " |      Implement self*=value.\n",
      " |  \n",
      " |  __init__(self, /, *args, **kwargs)\n",
      " |      Initialize self.  See help(type(self)) for accurate signature.\n",
      " |  \n",
      " |  __iter__(self, /)\n",
      " |      Implement iter(self).\n",
      " |  \n",
      " |  __le__(self, value, /)\n",
      " |      Return self<=value.\n",
      " |  \n",
      " |  __len__(self, /)\n",
      " |      Return len(self).\n",
      " |  \n",
      " |  __lt__(self, value, /)\n",
      " |      Return self<value.\n",
      " |  \n",
      " |  __mul__(self, value, /)\n",
      " |      Return self*value.\n",
      " |  \n",
      " |  __ne__(self, value, /)\n",
      " |      Return self!=value.\n",
      " |  \n",
      " |  __repr__(self, /)\n",
      " |      Return repr(self).\n",
      " |  \n",
      " |  __reversed__(self, /)\n",
      " |      Return a reverse iterator over the list.\n",
      " |  \n",
      " |  __rmul__(self, value, /)\n",
      " |      Return value*self.\n",
      " |  \n",
      " |  __setitem__(self, key, value, /)\n",
      " |      Set self[key] to value.\n",
      " |  \n",
      " |  __sizeof__(self, /)\n",
      " |      Return the size of the list in memory, in bytes.\n",
      " |  \n",
      " |  append(self, object, /)\n",
      " |      Append object to the end of the list.\n",
      " |  \n",
      " |  clear(self, /)\n",
      " |      Remove all items from list.\n",
      " |  \n",
      " |  copy(self, /)\n",
      " |      Return a shallow copy of the list.\n",
      " |  \n",
      " |  count(self, value, /)\n",
      " |      Return number of occurrences of value.\n",
      " |  \n",
      " |  extend(self, iterable, /)\n",
      " |      Extend list by appending elements from the iterable.\n",
      " |  \n",
      " |  index(self, value, start=0, stop=9223372036854775807, /)\n",
      " |      Return first index of value.\n",
      " |      \n",
      " |      Raises ValueError if the value is not present.\n",
      " |  \n",
      " |  insert(self, index, object, /)\n",
      " |      Insert object before index.\n",
      " |  \n",
      " |  pop(self, index=-1, /)\n",
      " |      Remove and return item at index (default last).\n",
      " |      \n",
      " |      Raises IndexError if list is empty or index is out of range.\n",
      " |  \n",
      " |  remove(self, value, /)\n",
      " |      Remove first occurrence of value.\n",
      " |      \n",
      " |      Raises ValueError if the value is not present.\n",
      " |  \n",
      " |  reverse(self, /)\n",
      " |      Reverse *IN PLACE*.\n",
      " |  \n",
      " |  sort(self, /, *, key=None, reverse=False)\n",
      " |      Sort the list in ascending order and return None.\n",
      " |      \n",
      " |      The sort is in-place (i.e. the list itself is modified) and stable (i.e. the\n",
      " |      order of two equal elements is maintained).\n",
      " |      \n",
      " |      If a key function is given, apply it once to each list item and sort them,\n",
      " |      ascending or descending, according to their function values.\n",
      " |      \n",
      " |      The reverse flag can be set to sort in descending order.\n",
      " |  \n",
      " |  ----------------------------------------------------------------------\n",
      " |  Static methods defined here:\n",
      " |  \n",
      " |  __new__(*args, **kwargs) from builtins.type\n",
      " |      Create and return a new object.  See help(type) for accurate signature.\n",
      " |  \n",
      " |  ----------------------------------------------------------------------\n",
      " |  Data and other attributes defined here:\n",
      " |  \n",
      " |  __hash__ = None\n",
      "\n"
     ]
    }
   ],
   "source": [
    "help(list)"
   ]
  },
  {
   "cell_type": "code",
   "execution_count": 62,
   "id": "ab50c8e5-147c-4800-850e-df7c8019030e",
   "metadata": {},
   "outputs": [
    {
     "data": {
      "text/plain": [
       "1000000"
      ]
     },
     "execution_count": 62,
     "metadata": {},
     "output_type": "execute_result"
    }
   ],
   "source": [
    "len(py_list)"
   ]
  },
  {
   "cell_type": "code",
   "execution_count": 111,
   "id": "90720d40-d6f4-45b7-8526-ab4a6e03b92e",
   "metadata": {},
   "outputs": [
    {
     "name": "stdout",
     "output_type": "stream",
     "text": [
      "0:00:00.268987\n"
     ]
    }
   ],
   "source": [
    "start = datetime.now()\n",
    "py_list = [ i+3 for i in py_list ]\n",
    "end = datetime.now()\n",
    "print(end - start)"
   ]
  },
  {
   "cell_type": "code",
   "execution_count": 112,
   "id": "78acbffe-75dd-4521-bf54-6568af936e3a",
   "metadata": {},
   "outputs": [
    {
     "name": "stdout",
     "output_type": "stream",
     "text": [
      "0:00:00.001989\n"
     ]
    }
   ],
   "source": [
    "np_arr = np.array([i for i in range(1000000)])\n",
    "np_arr.size\n",
    "start = datetime.now()\n",
    "np_arr += 3\n",
    "end = datetime.now()\n",
    "print(end - start)"
   ]
  },
  {
   "cell_type": "code",
   "execution_count": 110,
   "id": "4f9dd1bd-ce95-4c4c-a527-3804751e741d",
   "metadata": {},
   "outputs": [
    {
     "data": {
      "text/plain": [
       "145.83525287931897"
      ]
     },
     "execution_count": 110,
     "metadata": {},
     "output_type": "execute_result"
    }
   ],
   "source": [
    "00.291233/00.001997"
   ]
  },
  {
   "cell_type": "markdown",
   "id": "b8f41bcc-d6e3-45c0-8fac-95b461c5c620",
   "metadata": {},
   "source": [
    "## 17. Tipos de Numpy Array"
   ]
  },
  {
   "cell_type": "code",
   "execution_count": 122,
   "id": "c8cc0530-2f83-43e8-ad97-392f31ba9ddf",
   "metadata": {},
   "outputs": [],
   "source": [
    "dt = np.dtype(\"M\")\n",
    "dt = np.dtype(\"i4\")\n",
    "dti = np.dtype(\"c16\")"
   ]
  },
  {
   "cell_type": "code",
   "execution_count": 123,
   "id": "38c1e0ca-73f1-4382-ae17-413671fb651c",
   "metadata": {},
   "outputs": [
    {
     "data": {
      "text/plain": [
       "dtype('complex128')"
      ]
     },
     "execution_count": 123,
     "metadata": {},
     "output_type": "execute_result"
    }
   ],
   "source": [
    "dti"
   ]
  },
  {
   "cell_type": "markdown",
   "id": "51628602-b083-4d88-bc98-0414ca577f98",
   "metadata": {},
   "source": [
    "## 18 Shape"
   ]
  },
  {
   "cell_type": "code",
   "execution_count": 124,
   "id": "91c41ec6-2d11-404a-bc33-ad1c3aa1c164",
   "metadata": {},
   "outputs": [
    {
     "name": "stdout",
     "output_type": "stream",
     "text": [
      "[10 20 30 40 50]\n"
     ]
    }
   ],
   "source": [
    "print(arr)"
   ]
  },
  {
   "cell_type": "code",
   "execution_count": 125,
   "id": "83e74e70-e065-403f-821c-b09fcef9ec4a",
   "metadata": {},
   "outputs": [
    {
     "name": "stdout",
     "output_type": "stream",
     "text": [
      "(5,)\n"
     ]
    }
   ],
   "source": [
    "print(arr.shape)"
   ]
  },
  {
   "cell_type": "code",
   "execution_count": 126,
   "id": "9ab53542-79a9-460c-bbad-d597567f7d94",
   "metadata": {},
   "outputs": [
    {
     "name": "stdout",
     "output_type": "stream",
     "text": [
      "[[1 2 3]\n",
      " [4 5 6]]\n",
      "(2, 3)\n"
     ]
    }
   ],
   "source": [
    "print(arr2d)\n",
    "print(arr2d.shape)"
   ]
  },
  {
   "cell_type": "code",
   "execution_count": 127,
   "id": "d34cd23b-3919-4a65-822b-bfdbcb906420",
   "metadata": {},
   "outputs": [
    {
     "name": "stdout",
     "output_type": "stream",
     "text": [
      "[[[ 1  2  3]\n",
      "  [ 4  5  6]]\n",
      "\n",
      " [[ 7  8  9]\n",
      "  [10 11 12]]]\n",
      "(2, 2, 3)\n"
     ]
    }
   ],
   "source": [
    "print(arr3d)\n",
    "print(arr3d.shape)"
   ]
  },
  {
   "cell_type": "markdown",
   "id": "0ffd4b0f-d462-4c8b-af69-87d7f2aae007",
   "metadata": {},
   "source": [
    "## 19. Reshape"
   ]
  },
  {
   "cell_type": "code",
   "execution_count": 130,
   "id": "aa1803a1-f408-40b4-89d1-4fe461e4109d",
   "metadata": {},
   "outputs": [
    {
     "name": "stdout",
     "output_type": "stream",
     "text": [
      "[[10]\n",
      " [20]\n",
      " [30]\n",
      " [40]\n",
      " [50]]\n"
     ]
    }
   ],
   "source": [
    "\n",
    "reshapeArr = arr.reshape(5,1)\n",
    "print(reshapeArr)"
   ]
  },
  {
   "cell_type": "code",
   "execution_count": 131,
   "id": "7aa6cba1-a3f0-494b-b128-14c0afc63533",
   "metadata": {},
   "outputs": [
    {
     "name": "stdout",
     "output_type": "stream",
     "text": [
      "(5, 1)\n"
     ]
    }
   ],
   "source": [
    "print(reshapeArr.shape)"
   ]
  },
  {
   "cell_type": "code",
   "execution_count": 134,
   "id": "29de24b8-a866-4a66-a525-aca7990f4fbd",
   "metadata": {},
   "outputs": [
    {
     "name": "stdout",
     "output_type": "stream",
     "text": [
      "[1 2 3 4 5 6]\n"
     ]
    }
   ],
   "source": [
    "reshapeArr = arr2d.reshape(-1)\n",
    "print(reshapeArr)"
   ]
  },
  {
   "cell_type": "code",
   "execution_count": 135,
   "id": "39b8f1bf-45a2-440d-ad0b-83ff261eb3b7",
   "metadata": {},
   "outputs": [
    {
     "name": "stdout",
     "output_type": "stream",
     "text": [
      "[ 1  2  3  4  5  6  7  8  9 10 11 12]\n"
     ]
    }
   ],
   "source": [
    "reshapeArr = arr3d.reshape(-1)\n",
    "print(reshapeArr)"
   ]
  },
  {
   "cell_type": "code",
   "execution_count": 136,
   "id": "ed6408a1-741d-43d7-8c4d-f876c84aa9f2",
   "metadata": {},
   "outputs": [
    {
     "name": "stdout",
     "output_type": "stream",
     "text": [
      "[1 2 3 4 5 6]\n"
     ]
    }
   ],
   "source": [
    "reshapeArr = arr2d.reshape(6)\n",
    "print(reshapeArr)"
   ]
  },
  {
   "cell_type": "markdown",
   "id": "1bc8ed5a-5f5e-444e-b0df-35283e86bb8d",
   "metadata": {},
   "source": [
    "## 20. Buscar a traves de Where ( metodo where de numpy)"
   ]
  },
  {
   "cell_type": "code",
   "execution_count": 139,
   "id": "3d341f63-1fa3-4473-8151-89f1d6b5f36e",
   "metadata": {},
   "outputs": [
    {
     "name": "stdout",
     "output_type": "stream",
     "text": [
      "[10 20 30 40 50]\n",
      "(array([2], dtype=int64),)\n"
     ]
    }
   ],
   "source": [
    "print(arr)\n",
    "search = np.where(arr == 30)\n",
    "print(search)"
   ]
  },
  {
   "cell_type": "markdown",
   "id": "ea6a3857-1553-4768-9180-42779395c396",
   "metadata": {},
   "source": [
    "## 21. Ordenar a través de Sort"
   ]
  },
  {
   "cell_type": "code",
   "execution_count": 140,
   "id": "ba7930a7-884f-4935-a786-329d9ef32677",
   "metadata": {},
   "outputs": [],
   "source": [
    "arrDes = np.array([1,4,7,2,3,67,12,5,99,0,34] )"
   ]
  },
  {
   "cell_type": "code",
   "execution_count": 141,
   "id": "0cacec96-532d-451e-8efd-cd1381f68454",
   "metadata": {},
   "outputs": [
    {
     "name": "stdout",
     "output_type": "stream",
     "text": [
      "[ 0  1  2  3  4  5  7 12 34 67 99]\n"
     ]
    }
   ],
   "source": [
    "print(np.sort(arrDes))"
   ]
  },
  {
   "cell_type": "code",
   "execution_count": 142,
   "id": "fa8830e3-60d6-48e6-ba37-a30e88471b98",
   "metadata": {},
   "outputs": [
    {
     "name": "stdout",
     "output_type": "stream",
     "text": [
      "['Alberto' 'Maria' 'Patricia' 'Pedro']\n"
     ]
    }
   ],
   "source": [
    "arrDes = np.array([\"Maria\",\"Pedro\", \"Alberto\", \"Patricia\"])\n",
    "print(np.sort(arrDes))"
   ]
  },
  {
   "cell_type": "markdown",
   "id": "f9349c0a-8d97-4812-8606-876233e4fe17",
   "metadata": {},
   "source": [
    "## 22. Filtrar"
   ]
  },
  {
   "cell_type": "code",
   "execution_count": 143,
   "id": "ed5eaa91-b2c8-45e9-8f02-711c7f8ece34",
   "metadata": {},
   "outputs": [
    {
     "name": "stdout",
     "output_type": "stream",
     "text": [
      "[False False  True  True  True]\n",
      "[30 40 50]\n"
     ]
    }
   ],
   "source": [
    "filtro = arr > 20\n",
    "newArr = arr[filtro]\n",
    "print(filtro)\n",
    "print(newArr)"
   ]
  },
  {
   "cell_type": "markdown",
   "id": "948e1862-b4d7-4735-ba34-6fa83673bb81",
   "metadata": {},
   "source": [
    "## 23. Arange  ( start, end, paso )"
   ]
  },
  {
   "cell_type": "code",
   "execution_count": 148,
   "id": "44a0af08-252b-4d49-a0e3-b50f74541de3",
   "metadata": {},
   "outputs": [
    {
     "name": "stdout",
     "output_type": "stream",
     "text": [
      "[ 0  1  2  3  4  5  6  7  8  9 10 11 12 13 14 15 16 17 18 19 20 21 22 23\n",
      " 24 25 26 27 28 29 30 31 32 33 34 35 36 37 38 39 40 41 42 43 44 45 46 47\n",
      " 48 49]\n"
     ]
    }
   ],
   "source": [
    "arrange = np.arange(50)\n",
    "print(arrange)"
   ]
  },
  {
   "cell_type": "code",
   "execution_count": 150,
   "id": "8511d7c4-f95e-45b8-b7a1-dc9e0e6889ce",
   "metadata": {},
   "outputs": [
    {
     "name": "stdout",
     "output_type": "stream",
     "text": [
      "[25 26 27 28 29]\n"
     ]
    }
   ],
   "source": [
    "print(np.arange(25,30))"
   ]
  },
  {
   "cell_type": "markdown",
   "id": "c380f328-3ed2-4e1f-98b2-8b7715b04599",
   "metadata": {},
   "source": [
    "## 24. Uso de memoria NumPy Array vs. List de Python"
   ]
  },
  {
   "cell_type": "code",
   "execution_count": 151,
   "id": "a6e2e758-f57e-4dc5-b407-ee7414da0f2b",
   "metadata": {},
   "outputs": [
    {
     "name": "stdout",
     "output_type": "stream",
     "text": [
      "range(0, 1000)\n",
      "Tamaño de c/elemento de la lista de python: 48\n",
      "Tamaño de Total de la lista de python: 48000\n"
     ]
    }
   ],
   "source": [
    "import sys\n",
    "s = range(1000)\n",
    "print(s)\n",
    "print(\"Tamaño de c/elemento de la lista de python:\", sys.getsizeof(s))\n",
    "print(\"Tamaño de Total de la lista de python:\", sys.getsizeof(s)*len(s))"
   ]
  },
  {
   "cell_type": "code",
   "execution_count": 154,
   "id": "9101e907-15c7-4fc6-b061-1be6d813075c",
   "metadata": {},
   "outputs": [
    {
     "name": "stdout",
     "output_type": "stream",
     "text": [
      "Tamaño de c/elemento de la lista de python: 4\n",
      "Tamaño de Total de la lista de python: 4000\n"
     ]
    }
   ],
   "source": [
    "nS = np.arange(1000)\n",
    "print(\"Tamaño de c/elemento de la lista de python:\", nS.itemsize)\n",
    "print(\"Tamaño de Total de la lista de python:\", nS.itemsize*nS.size)"
   ]
  },
  {
   "cell_type": "code",
   "execution_count": 155,
   "id": "fc9a2419-5b35-4c68-a3d8-723488164bde",
   "metadata": {},
   "outputs": [
    {
     "data": {
      "text/plain": [
       "12.0"
      ]
     },
     "execution_count": 155,
     "metadata": {},
     "output_type": "execute_result"
    }
   ],
   "source": [
    "48000 / 4000"
   ]
  },
  {
   "cell_type": "markdown",
   "id": "4caaa2f6-e479-4c1f-84e0-984b3be213d6",
   "metadata": {},
   "source": [
    "## 25. Array de ceros y unos. np.zeros()"
   ]
  },
  {
   "cell_type": "code",
   "execution_count": 156,
   "id": "a6c76acd-f53d-4a69-b681-036a3a866ab2",
   "metadata": {},
   "outputs": [
    {
     "data": {
      "text/plain": [
       "array([0., 0., 0., 0., 0.])"
      ]
     },
     "execution_count": 156,
     "metadata": {},
     "output_type": "execute_result"
    }
   ],
   "source": [
    "np.zeros(5)"
   ]
  },
  {
   "cell_type": "code",
   "execution_count": 158,
   "id": "86c50dc0-ba29-4a29-924c-01f0eef276c0",
   "metadata": {},
   "outputs": [
    {
     "ename": "TypeError",
     "evalue": "Cannot interpret '5' as a data type",
     "output_type": "error",
     "traceback": [
      "\u001b[1;31m---------------------------------------------------------------------------\u001b[0m",
      "\u001b[1;31mTypeError\u001b[0m                                 Traceback (most recent call last)",
      "\u001b[1;32m~\\AppData\\Local\\Temp/ipykernel_5432/3442555820.py\u001b[0m in \u001b[0;36m<module>\u001b[1;34m\u001b[0m\n\u001b[1;32m----> 1\u001b[1;33m \u001b[0mnp\u001b[0m\u001b[1;33m.\u001b[0m\u001b[0mones\u001b[0m\u001b[1;33m(\u001b[0m\u001b[1;36m2\u001b[0m\u001b[1;33m,\u001b[0m\u001b[1;36m5\u001b[0m\u001b[1;33m)\u001b[0m\u001b[1;33m\u001b[0m\u001b[1;33m\u001b[0m\u001b[0m\n\u001b[0m",
      "\u001b[1;32mc:\\users\\luisr\\.virtualenvs\\jupyter-zt7_fnfy\\lib\\site-packages\\numpy\\core\\numeric.py\u001b[0m in \u001b[0;36mones\u001b[1;34m(shape, dtype, order, like)\u001b[0m\n\u001b[0;32m    202\u001b[0m         \u001b[1;32mreturn\u001b[0m \u001b[0m_ones_with_like\u001b[0m\u001b[1;33m(\u001b[0m\u001b[0mshape\u001b[0m\u001b[1;33m,\u001b[0m \u001b[0mdtype\u001b[0m\u001b[1;33m=\u001b[0m\u001b[0mdtype\u001b[0m\u001b[1;33m,\u001b[0m \u001b[0morder\u001b[0m\u001b[1;33m=\u001b[0m\u001b[0morder\u001b[0m\u001b[1;33m,\u001b[0m \u001b[0mlike\u001b[0m\u001b[1;33m=\u001b[0m\u001b[0mlike\u001b[0m\u001b[1;33m)\u001b[0m\u001b[1;33m\u001b[0m\u001b[1;33m\u001b[0m\u001b[0m\n\u001b[0;32m    203\u001b[0m \u001b[1;33m\u001b[0m\u001b[0m\n\u001b[1;32m--> 204\u001b[1;33m     \u001b[0ma\u001b[0m \u001b[1;33m=\u001b[0m \u001b[0mempty\u001b[0m\u001b[1;33m(\u001b[0m\u001b[0mshape\u001b[0m\u001b[1;33m,\u001b[0m \u001b[0mdtype\u001b[0m\u001b[1;33m,\u001b[0m \u001b[0morder\u001b[0m\u001b[1;33m)\u001b[0m\u001b[1;33m\u001b[0m\u001b[1;33m\u001b[0m\u001b[0m\n\u001b[0m\u001b[0;32m    205\u001b[0m     \u001b[0mmultiarray\u001b[0m\u001b[1;33m.\u001b[0m\u001b[0mcopyto\u001b[0m\u001b[1;33m(\u001b[0m\u001b[0ma\u001b[0m\u001b[1;33m,\u001b[0m \u001b[1;36m1\u001b[0m\u001b[1;33m,\u001b[0m \u001b[0mcasting\u001b[0m\u001b[1;33m=\u001b[0m\u001b[1;34m'unsafe'\u001b[0m\u001b[1;33m)\u001b[0m\u001b[1;33m\u001b[0m\u001b[1;33m\u001b[0m\u001b[0m\n\u001b[0;32m    206\u001b[0m     \u001b[1;32mreturn\u001b[0m \u001b[0ma\u001b[0m\u001b[1;33m\u001b[0m\u001b[1;33m\u001b[0m\u001b[0m\n",
      "\u001b[1;31mTypeError\u001b[0m: Cannot interpret '5' as a data type"
     ]
    }
   ],
   "source": [
    "np.ones(2,5)"
   ]
  },
  {
   "cell_type": "markdown",
   "id": "b5b1bb6a-9f7f-4575-9870-c7b74f1fb54e",
   "metadata": {},
   "source": [
    "## 26. Linspace"
   ]
  },
  {
   "cell_type": "code",
   "execution_count": 161,
   "id": "9159efcd-3548-4608-ae6d-17b189723e49",
   "metadata": {},
   "outputs": [
    {
     "name": "stdout",
     "output_type": "stream",
     "text": [
      "[ 2.  5.  8. 11. 14. 17.]\n"
     ]
    }
   ],
   "source": [
    "print( np.linspace(2,20, num=6, endpoint=False))"
   ]
  },
  {
   "cell_type": "code",
   "execution_count": 163,
   "id": "48bc9550-cec1-429f-a592-c8167a2f84b7",
   "metadata": {},
   "outputs": [
    {
     "name": "stdout",
     "output_type": "stream",
     "text": [
      "[ 2.          2.36734694  2.73469388  3.10204082  3.46938776  3.83673469\n",
      "  4.20408163  4.57142857  4.93877551  5.30612245  5.67346939  6.04081633\n",
      "  6.40816327  6.7755102   7.14285714  7.51020408  7.87755102  8.24489796\n",
      "  8.6122449   8.97959184  9.34693878  9.71428571 10.08163265 10.44897959\n",
      " 10.81632653 11.18367347 11.55102041 11.91836735 12.28571429 12.65306122\n",
      " 13.02040816 13.3877551  13.75510204 14.12244898 14.48979592 14.85714286\n",
      " 15.2244898  15.59183673 15.95918367 16.32653061 16.69387755 17.06122449\n",
      " 17.42857143 17.79591837 18.16326531 18.53061224 18.89795918 19.26530612\n",
      " 19.63265306 20.        ]\n"
     ]
    }
   ],
   "source": [
    "print(np.linspace(2,20)) # por defecto son mum=50  puntos"
   ]
  },
  {
   "cell_type": "markdown",
   "id": "68d1f22c-af37-4696-82d2-2a738b8defdc",
   "metadata": {},
   "source": [
    "## 27. Random"
   ]
  },
  {
   "cell_type": "code",
   "execution_count": 165,
   "id": "5c46ea37-5af6-4d5e-80b7-2ebca2fb9ca4",
   "metadata": {},
   "outputs": [
    {
     "name": "stdout",
     "output_type": "stream",
     "text": [
      "[0.66935491 0.60744066 0.72604127 0.23264681 0.21677325 0.37833952\n",
      " 0.09705999 0.42016178 0.15122592 0.2856181  0.56048632 0.50902627\n",
      " 0.36190606 0.70133887 0.2309768  0.25905278 0.26453474 0.33571874\n",
      " 0.28718985 0.29615114]\n"
     ]
    }
   ],
   "source": [
    "randUniform = np.random.rand(20)\n",
    "print(randUniform)"
   ]
  },
  {
   "cell_type": "code",
   "execution_count": 166,
   "id": "53ef0e37-a6f6-4bd1-aba3-1a210e15ac44",
   "metadata": {},
   "outputs": [
    {
     "name": "stdout",
     "output_type": "stream",
     "text": [
      "[-1.0950582  -0.35222656 -1.09224599 -0.12623309 -0.49248038  0.50974919\n",
      " -0.04827185  0.13913077  0.057684    2.70266701 -0.88663479 -0.41134977\n",
      "  0.78108819  0.17205846  0.00639026  0.938666   -0.63637084 -0.83496427\n",
      " -0.02907251  0.27821277]\n"
     ]
    }
   ],
   "source": [
    "randNormal = np.random.randn(20)\n",
    "print(randNormal)"
   ]
  },
  {
   "cell_type": "code",
   "execution_count": 167,
   "id": "dce30193-da49-4326-8a3b-653b1e92b0d3",
   "metadata": {},
   "outputs": [],
   "source": [
    "import matplotlib.pyplot as plt"
   ]
  },
  {
   "cell_type": "code",
   "execution_count": 168,
   "id": "a275ff87-5464-4973-b4f8-970a8b15daaf",
   "metadata": {},
   "outputs": [
    {
     "data": {
      "image/png": "[encoded data removed]",
      "text/plain": [
       "<Figure size 432x288 with 1 Axes>"
      ]
     },
     "metadata": {
      "needs_background": "light"
     },
     "output_type": "display_data"
    }
   ],
   "source": [
    "randUniform = np.random.rand(1000)\n",
    "pdf, bins, patches = plt.hist(randUniform, bins=10, range=(0,1), density=True)\n",
    "plt.title(\"rand: uniform\")\n",
    "plt.show()"
   ]
  },
  {
   "cell_type": "code",
   "execution_count": 172,
   "id": "70e85bf5-b746-4070-a70a-ced3e56ddc71",
   "metadata": {},
   "outputs": [
    {
     "data": {
      "image/png": "[encoded data removed]",
      "text/plain": [
       "<Figure size 432x288 with 1 Axes>"
      ]
     },
     "metadata": {
      "needs_background": "light"
     },
     "output_type": "display_data"
    }
   ],
   "source": [
    "randNormal = np.random.randn(1000)\n",
    "pdf, bins, patches = plt.hist(randNormal, bins=20, range=(-4,4), density=True)\n",
    "plt.title(\"rand: normal\")\n",
    "plt.show()"
   ]
  },
  {
   "cell_type": "markdown",
   "id": "e83df0eb-1cf2-4215-9ed7-5323c5d9948b",
   "metadata": {},
   "source": [
    "## 28. Operaciones Matematicas"
   ]
  },
  {
   "cell_type": "code",
   "execution_count": 176,
   "id": "cf58ca9b-f4d8-466c-aa03-8de555f49a59",
   "metadata": {},
   "outputs": [
    {
     "name": "stdout",
     "output_type": "stream",
     "text": [
      "[1 2 3 4 5 6 7 8 9]\n",
      "[ 6  7  8  9 10 11 12 13 14]\n",
      "[ 5 10 15 20 25 30 35 40 45]\n",
      "[0.2 0.4 0.6 0.8 1.  1.2 1.4 1.6 1.8]\n"
     ]
    }
   ],
   "source": [
    "arr1 = np.arange(1,10)\n",
    "print(arr1)\n",
    "print(arr1 + 5 )\n",
    "print(arr1 * 5 )\n",
    "print(arr1 / 5 )"
   ]
  },
  {
   "cell_type": "code",
   "execution_count": 177,
   "id": "a162d29d-0213-454c-82f7-2b746d906d28",
   "metadata": {},
   "outputs": [
    {
     "name": "stdout",
     "output_type": "stream",
     "text": [
      "[10. 20. 30. 40. 50. 60. 70. 80. 90.]\n"
     ]
    }
   ],
   "source": [
    "arr2 = np.linspace(10, 90, num=9)\n",
    "print(arr2)"
   ]
  },
  {
   "cell_type": "code",
   "execution_count": 180,
   "id": "0fcfc586-b6c6-4695-bfac-e043f1613ba8",
   "metadata": {},
   "outputs": [
    {
     "name": "stdout",
     "output_type": "stream",
     "text": [
      "[11. 22. 33. 44. 55. 66. 77. 88. 99.]\n",
      "[ -9. -18. -27. -36. -45. -54. -63. -72. -81.]\n",
      "[ 10.  40.  90. 160. 250. 360. 490. 640. 810.]\n",
      "[0.1 0.1 0.1 0.1 0.1 0.1 0.1 0.1 0.1]\n"
     ]
    }
   ],
   "source": [
    "print( arr1 + arr2  )\n",
    "print( arr1 - arr2 )\n",
    "print( arr1 * arr2 )\n",
    "print( arr1 / arr2 )"
   ]
  },
  {
   "cell_type": "code",
   "execution_count": 181,
   "id": "3b14335a-39ba-45f4-b803-867b189ee92e",
   "metadata": {},
   "outputs": [
    {
     "data": {
      "text/plain": [
       "array([11., 22., 33., 44., 55., 66., 77., 88., 99.])"
      ]
     },
     "execution_count": 181,
     "metadata": {},
     "output_type": "execute_result"
    }
   ],
   "source": [
    "np.add(arr1, arr2)"
   ]
  },
  {
   "cell_type": "code",
   "execution_count": 183,
   "id": "a7f625d1-77ce-4034-b9e5-01100804cf94",
   "metadata": {},
   "outputs": [
    {
     "data": {
      "text/plain": [
       "array([ -9., -18., -27., -36., -45., -54., -63., -72., -81.])"
      ]
     },
     "execution_count": 183,
     "metadata": {},
     "output_type": "execute_result"
    }
   ],
   "source": [
    "np.subtract(arr1, arr2 )"
   ]
  },
  {
   "cell_type": "code",
   "execution_count": 184,
   "id": "3aed91d0-c572-4e40-8bd4-74c25c657fdd",
   "metadata": {},
   "outputs": [
    {
     "data": {
      "text/plain": [
       "array([101, 102, 103, 104, 105, 106, 107, 108, 109])"
      ]
     },
     "execution_count": 184,
     "metadata": {},
     "output_type": "execute_result"
    }
   ],
   "source": [
    "np.add(arr1, 100) # suma el mismo valor a todos los elementos"
   ]
  },
  {
   "cell_type": "markdown",
   "id": "1159d2b1-cbde-4f90-922a-375ac0a30449",
   "metadata": {},
   "source": [
    "## 29. Concatenar"
   ]
  },
  {
   "cell_type": "code",
   "execution_count": 185,
   "id": "eef40f5a-b22a-4bf1-94b4-bd217f3797d3",
   "metadata": {},
   "outputs": [
    {
     "name": "stdout",
     "output_type": "stream",
     "text": [
      "[ 1  2  3  4  5  6  7  8  9 10]\n"
     ]
    }
   ],
   "source": [
    "arr1 = np.array([1,2,3,4,5])\n",
    "arr2 = np.array([6,7,8,9,10])\n",
    "arr3 = np.concatenate((arr1, arr2))\n",
    "print(arr3)"
   ]
  },
  {
   "cell_type": "code",
   "execution_count": 186,
   "id": "40bf72a3-8472-4f09-b1ff-b2455e7cb2d1",
   "metadata": {},
   "outputs": [
    {
     "name": "stdout",
     "output_type": "stream",
     "text": [
      "[[1 1]\n",
      " [2 2]\n",
      " [3 3]\n",
      " [4 4]]\n"
     ]
    }
   ],
   "source": [
    "arr4 = np.array([[1,1],[2,2]])\n",
    "arr5 = np.array([[3,3],[4,4]])\n",
    "arr6 = np.concatenate((arr4, arr5))\n",
    "print(arr6)"
   ]
  },
  {
   "cell_type": "markdown",
   "id": "8a4bc6ef-615a-4db2-b497-0c717dbf9acb",
   "metadata": {},
   "source": [
    "## 30 Stack"
   ]
  },
  {
   "cell_type": "code",
   "execution_count": 188,
   "id": "b0320a8c-f8ea-41ff-b73a-ae5349256fbd",
   "metadata": {},
   "outputs": [
    {
     "data": {
      "text/plain": [
       "(10,)"
      ]
     },
     "execution_count": 188,
     "metadata": {},
     "output_type": "execute_result"
    }
   ],
   "source": [
    "arr3.shape"
   ]
  },
  {
   "cell_type": "code",
   "execution_count": 190,
   "id": "a6113cd8-6d59-4195-a1de-e0a8174114ea",
   "metadata": {},
   "outputs": [
    {
     "data": {
      "text/plain": [
       "array([[ 1,  2,  3,  4,  5],\n",
       "       [ 6,  7,  8,  9, 10]])"
      ]
     },
     "execution_count": 190,
     "metadata": {},
     "output_type": "execute_result"
    }
   ],
   "source": [
    "arr3a = np.stack( (arr1, arr2)) \n",
    "arr3a "
   ]
  },
  {
   "cell_type": "code",
   "execution_count": 191,
   "id": "be80c741-1150-4802-b455-4cf85a157a99",
   "metadata": {},
   "outputs": [
    {
     "data": {
      "text/plain": [
       "(2, 5)"
      ]
     },
     "execution_count": 191,
     "metadata": {},
     "output_type": "execute_result"
    }
   ],
   "source": [
    "arr3a.shape"
   ]
  },
  {
   "cell_type": "markdown",
   "id": "dbbc21c8-7142-4a8c-a94c-16b6fc818016",
   "metadata": {},
   "source": [
    "## 31 vstack vs hstack"
   ]
  },
  {
   "cell_type": "code",
   "execution_count": 193,
   "id": "512f744b-5f66-4ae8-a2fe-9ff39321539e",
   "metadata": {},
   "outputs": [
    {
     "data": {
      "text/plain": [
       "array([[ 1,  2,  3,  4,  5],\n",
       "       [ 6,  7,  8,  9, 10]])"
      ]
     },
     "execution_count": 193,
     "metadata": {},
     "output_type": "execute_result"
    }
   ],
   "source": [
    "arrV = np.vstack((arr1, arr2))\n",
    "arrV"
   ]
  },
  {
   "cell_type": "code",
   "execution_count": 195,
   "id": "ebabbd8f-5b4a-4fe3-8ed0-b2652363a644",
   "metadata": {},
   "outputs": [
    {
     "data": {
      "text/plain": [
       "array([ 1,  2,  3,  4,  5,  6,  7,  8,  9, 10,  1,  2,  3,  4,  5])"
      ]
     },
     "execution_count": 195,
     "metadata": {},
     "output_type": "execute_result"
    }
   ],
   "source": [
    "arrH = np.hstack((arr1, arr2, arr1))\n",
    "arrH"
   ]
  },
  {
   "cell_type": "markdown",
   "id": "fd3b2c58-f98f-45ea-b133-090df30de877",
   "metadata": {},
   "source": [
    "## 32 Split Array"
   ]
  },
  {
   "cell_type": "code",
   "execution_count": 199,
   "id": "85719743-d07b-4014-8521-3651e70b821c",
   "metadata": {},
   "outputs": [
    {
     "name": "stdout",
     "output_type": "stream",
     "text": [
      "[array([1, 2]), array([3]), array([4]), array([5])]\n",
      "[array([1]), array([2]), array([3]), array([4]), array([5])]\n",
      "[array([1]), array([2]), array([3]), array([4]), array([5]), array([], dtype=int32)]\n"
     ]
    }
   ],
   "source": [
    "arr1\n",
    "print(np.array_split(arr1,4))\n",
    "print(np.array_split(arr1,5))\n",
    "print(np.array_split(arr1,6))"
   ]
  },
  {
   "cell_type": "code",
   "execution_count": 201,
   "id": "1e6f59dc-7786-485c-a19f-7bca93c1c79f",
   "metadata": {},
   "outputs": [
    {
     "name": "stdout",
     "output_type": "stream",
     "text": [
      "[array([[1, 2, 3]]), array([[4, 5, 6]])]\n",
      "[array([[1, 2, 3]]), array([[4, 5, 6]]), array([], shape=(0, 3), dtype=int32)]\n"
     ]
    }
   ],
   "source": [
    "arr2d\n",
    "print( np.array_split(arr2d, 2))\n",
    "print( np.array_split(arr2d, 3))"
   ]
  },
  {
   "cell_type": "markdown",
   "id": "c20dd957-bcaa-4085-b86a-a61d222f5fef",
   "metadata": {},
   "source": [
    "## 33 Insert Append y Delete"
   ]
  },
  {
   "cell_type": "code",
   "execution_count": 206,
   "id": "7fcf2064-8c4f-4b4f-9b86-504208a9516c",
   "metadata": {},
   "outputs": [
    {
     "name": "stdout",
     "output_type": "stream",
     "text": [
      "[ 10  20 999  30  40  50]\n",
      "(6,)\n",
      "[ 10  20 999  30  40  50]\n",
      "[10 20 40 50]\n"
     ]
    }
   ],
   "source": [
    "arr\n",
    "print(np.insert(arr, 2, 999))\n",
    "print(np.insert(arr, 2, 999).shape)\n",
    "print(np.insert(arr, 2, 999))\n",
    "print(np.delete(arr, 2))\n"
   ]
  }
 ],
 "metadata": {
  "kernelspec": {
   "display_name": "Python 3 (ipykernel)",
   "language": "python",
   "name": "python3"
  },
  "language_info": {
   "codemirror_mode": {
    "name": "ipython",
    "version": 3
   },
   "file_extension": ".py",
   "mimetype": "text/x-python",
   "name": "python",
   "nbconvert_exporter": "python",
   "pygments_lexer": "ipython3",
   "version": "3.8.6"
  }
 },
 "nbformat": 4,
 "nbformat_minor": 5
}
